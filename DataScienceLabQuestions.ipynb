{
  "nbformat": 4,
  "nbformat_minor": 0,
  "metadata": {
    "colab": {
      "provenance": [],
      "authorship_tag": "ABX9TyN/RBMbZSUZAtdPO4UIPFwh",
      "include_colab_link": true
    },
    "kernelspec": {
      "name": "python3",
      "display_name": "Python 3"
    },
    "language_info": {
      "name": "python"
    }
  },
  "cells": [
    {
      "cell_type": "markdown",
      "metadata": {
        "id": "view-in-github",
        "colab_type": "text"
      },
      "source": [
        "<a href=\"https://colab.research.google.com/github/azmisaud/MCALab3/blob/main/DataScienceLabQuestions.ipynb\" target=\"_parent\"><img src=\"https://colab.research.google.com/assets/colab-badge.svg\" alt=\"Open In Colab\"/></a>"
      ]
    },
    {
      "cell_type": "markdown",
      "source": [
        "# Week11 Question5"
      ],
      "metadata": {
        "id": "Q5ZMfXnsAIxF"
      }
    },
    {
      "cell_type": "markdown",
      "source": [
        "## Generating the demo dataset."
      ],
      "metadata": {
        "id": "4UjWLkvIA9dd"
      }
    },
    {
      "cell_type": "code",
      "execution_count": null,
      "metadata": {
        "id": "O_hSUQoBACPy"
      },
      "outputs": [],
      "source": [
        "import pandas as pd\n",
        "import numpy as np"
      ]
    },
    {
      "cell_type": "code",
      "source": [
        "num_samples=1000\n",
        "\n",
        "x1=np.random.choice(['A','B','C','D'],num_samples)\n",
        "x2=np.random.choice(['W','X','Y','Z'],num_samples)\n",
        "\n",
        "x3=np.random.normal(loc=50,scale=10,size=num_samples)\n",
        "x4=np.random.uniform(0,100,size=num_samples)\n",
        "x5=np.random.normal(loc=30,scale=5,size=num_samples)\n",
        "x6=np.random.uniform(10,50,size=num_samples)\n",
        "x7=np.random.uniform(0,1,size=num_samples)\n",
        "\n",
        "y=np.random.choice([0,1],num_samples)\n",
        "\n",
        "data=pd.DataFrame({\n",
        "    'x1':x1,\n",
        "    'x2':x2,\n",
        "    'x3':x3,\n",
        "    'x4':x4,\n",
        "    'x5':x5,\n",
        "    'x6':x6,\n",
        "    'x7':x7,\n",
        "    'y':y\n",
        "})\n",
        "\n",
        "data.to_csv('demo_dataset.csv',index=False)\n",
        "\n",
        "print(\"Dataset generated and saved as demo.csv\")"
      ],
      "metadata": {
        "id": "NskhSV--BWLO"
      },
      "execution_count": null,
      "outputs": []
    },
    {
      "cell_type": "markdown",
      "source": [
        "## Loading the generated dataset"
      ],
      "metadata": {
        "id": "L0QgFeFGEmqZ"
      }
    },
    {
      "cell_type": "code",
      "source": [
        "data_df=pd.read_csv('demo_dataset.csv')"
      ],
      "metadata": {
        "id": "mBNOJmPuEpQp"
      },
      "execution_count": null,
      "outputs": []
    },
    {
      "cell_type": "markdown",
      "source": [
        "## Cleaning the data"
      ],
      "metadata": {
        "id": "WhZ21GduEG3W"
      }
    },
    {
      "cell_type": "markdown",
      "source": [
        "### 1. Handling Missing Values"
      ],
      "metadata": {
        "id": "TO2U0A0dEQqh"
      }
    },
    {
      "cell_type": "code",
      "source": [
        "missing_values=data_df.isnull().sum()\n",
        "print(missing_values)\n",
        "\n",
        "#There are no missing values since the data is generated as per the choice."
      ],
      "metadata": {
        "id": "0aR2PFFkEKBx"
      },
      "execution_count": null,
      "outputs": []
    },
    {
      "cell_type": "markdown",
      "source": [
        "### Handling Outliers"
      ],
      "metadata": {
        "id": "XDVmyjwuFWsu"
      }
    },
    {
      "cell_type": "code",
      "source": [
        "#Using the IQR method for outlier handling\n",
        "for col in ['x3','x4','x5','x6']:\n",
        "  Q1=data_df[col].quantile(0.25)\n",
        "  Q3=data_df[col].quantile(0.75)\n",
        "  IQR=Q3-Q1\n",
        "  lower_bound=Q1-1.5*IQR\n",
        "  upper_bound=Q3+1.5*IQR\n",
        "  data_df[col]=np.where(data_df[col]<lower_bound,lower_bound,data_df[col])\n",
        "  data_df[col]=np.where(data_df[col]>upper_bound,upper_bound,data_df[col])"
      ],
      "metadata": {
        "id": "XKKLrgJVFZiG"
      },
      "execution_count": null,
      "outputs": []
    },
    {
      "cell_type": "markdown",
      "source": [
        "### Label Encoding the nominal data"
      ],
      "metadata": {
        "id": "F1Sz0-lJHa0h"
      }
    },
    {
      "cell_type": "markdown",
      "source": [
        "Importing the LabelEncoder from sklearn"
      ],
      "metadata": {
        "id": "db8p-QE2Heo2"
      }
    },
    {
      "cell_type": "code",
      "source": [
        "from sklearn.preprocessing import LabelEncoder"
      ],
      "metadata": {
        "id": "p74xWNj4Hjtk"
      },
      "execution_count": null,
      "outputs": []
    },
    {
      "cell_type": "code",
      "source": [
        "label_encoder=LabelEncoder()\n",
        "\n",
        "data_df['x1']=label_encoder.fit_transform(data_df['x1'])\n",
        "data_df['x2']=label_encoder.fit_transform(data_df['x2'])"
      ],
      "metadata": {
        "id": "HRe-fCI7Ho3T"
      },
      "execution_count": null,
      "outputs": []
    },
    {
      "cell_type": "markdown",
      "source": [
        "## Scaling the data"
      ],
      "metadata": {
        "id": "3mHttWdvIQZw"
      }
    },
    {
      "cell_type": "markdown",
      "source": [
        "Importing the standard scaler from sklearn"
      ],
      "metadata": {
        "id": "_BV22ymoIWf3"
      }
    },
    {
      "cell_type": "code",
      "source": [
        "from sklearn.preprocessing import StandardScaler"
      ],
      "metadata": {
        "id": "leIpHhdMIU0U"
      },
      "execution_count": null,
      "outputs": []
    },
    {
      "cell_type": "code",
      "source": [
        "X=data_df.drop(columns=['y'])\n",
        "y=data_df['y']\n",
        "\n",
        "continous_features=['x3','x4','x5','x6']\n",
        "\n",
        "scaler=StandardScaler()\n",
        "\n",
        "X_scaled=X.copy()\n",
        "X_scaled[continous_features]=scaler.fit_transform(X[continous_features])\n",
        "\n",
        "X_scaled['x7']=X['x7']\n",
        "\n",
        "final_df=pd.concat([X_scaled, y.reset_index(drop=True)],axis=1)"
      ],
      "metadata": {
        "id": "V8ZEy788IjVq"
      },
      "execution_count": null,
      "outputs": []
    },
    {
      "cell_type": "markdown",
      "source": [
        "## Training this dataset"
      ],
      "metadata": {
        "id": "BYvaGzGKLjpx"
      }
    },
    {
      "cell_type": "markdown",
      "source": [
        "Importing the libraries"
      ],
      "metadata": {
        "id": "VDPDEg-7LrUO"
      }
    },
    {
      "cell_type": "code",
      "source": [
        "from sklearn.model_selection import train_test_split\n",
        "from sklearn.linear_model import LogisticRegression\n",
        "from sklearn.tree import DecisionTreeClassifier\n",
        "from sklearn.ensemble import RandomForestClassifier\n",
        "from sklearn.metrics import accuracy_score, f1_score, confusion_matrix\n",
        "import seaborn as sns\n",
        "import matplotlib.pyplot as plt"
      ],
      "metadata": {
        "id": "zqMxPP_zLqlm"
      },
      "execution_count": null,
      "outputs": []
    },
    {
      "cell_type": "code",
      "source": [
        "X=final_df.drop(columns=['y'])\n",
        "y=final_df['y']\n",
        "\n",
        "X_train, X_test, y_train, y_test = train_test_split(X,y,test_size=0.3,random_state=42)\n"
      ],
      "metadata": {
        "id": "thsQErszMFe2"
      },
      "execution_count": null,
      "outputs": []
    },
    {
      "cell_type": "markdown",
      "source": [
        "### Logistic Regression"
      ],
      "metadata": {
        "id": "Vh9mqA-aLnMt"
      }
    },
    {
      "cell_type": "code",
      "source": [
        "log_reg=LogisticRegression(random_state=42)\n",
        "\n",
        "log_reg.fit(X_train,y_train)\n",
        "\n",
        "y_pred=log_reg.predict(X_test)\n",
        "\n",
        "accuracy_reg=accuracy_score(y_test,y_pred)\n",
        "f1_reg=f1_score(y_test,y_pred)\n",
        "conf_matrix_reg=confusion_matrix(y_test,y_pred)\n",
        "\n",
        "print(\"Accuracy:\",accuracy_reg)\n",
        "print(\"F1 Score:\",f1_reg)\n",
        "print(\"Confusion Matrix :\\n \", conf_matrix_reg)"
      ],
      "metadata": {
        "id": "X7HmjaEYMtJB"
      },
      "execution_count": null,
      "outputs": []
    },
    {
      "cell_type": "markdown",
      "source": [
        "### Decision Tree"
      ],
      "metadata": {
        "id": "v7wRq8QNNyBg"
      }
    },
    {
      "cell_type": "code",
      "source": [
        "decision_tree=DecisionTreeClassifier(random_state=42)\n",
        "\n",
        "decision_tree.fit(X_train,y_train)\n",
        "\n",
        "y_pred_dt=decision_tree.predict(X_test)\n",
        "\n",
        "accuracy_dt=accuracy_score(y_test,y_pred_dt)\n",
        "f1_dt=f1_score(y_test,y_pred_dt)\n",
        "conf_matrix_dt=confusion_matrix(y_test,y_pred_dt)\n",
        "\n",
        "print(\"Accuracy:\",accuracy_dt)\n",
        "print(\"F1 Score:\",f1_dt)\n",
        "print(\"Confusion Matrix : \\n\", conf_matrix_dt)"
      ],
      "metadata": {
        "id": "jESHuS_-OFs-"
      },
      "execution_count": null,
      "outputs": []
    },
    {
      "cell_type": "markdown",
      "source": [
        "### Random Forest"
      ],
      "metadata": {
        "id": "YtX8QyynOtdG"
      }
    },
    {
      "cell_type": "code",
      "source": [
        "random_forest=RandomForestClassifier(random_state=42)\n",
        "\n",
        "random_forest.fit(X_train,y_train)\n",
        "\n",
        "y_pred_rf=random_forest.predict(X_test)\n",
        "\n",
        "accuracy_rf=accuracy_score(y_test,y_pred_rf)\n",
        "f1_rf=f1_score(y_test,y_pred_rf)\n",
        "conf_matrix_rf=confusion_matrix(y_test,y_pred_rf)\n",
        "\n",
        "print(\"Accuracy:\",accuracy_rf)\n",
        "print(\"F1 Score:\",f1_rf)\n",
        "print(\"Confusion Matrix : \\n\", conf_matrix_rf)"
      ],
      "metadata": {
        "id": "zo2QE76SOz6c"
      },
      "execution_count": null,
      "outputs": []
    },
    {
      "cell_type": "markdown",
      "source": [
        "# Week12 Question5"
      ],
      "metadata": {
        "id": "4jYZzYp-cNPl"
      }
    },
    {
      "cell_type": "code",
      "source": [
        "import numpy as np"
      ],
      "metadata": {
        "id": "-jIM0DjRcQyp"
      },
      "execution_count": null,
      "outputs": []
    },
    {
      "cell_type": "markdown",
      "source": [
        "Generating the random values of independent variables and constant."
      ],
      "metadata": {
        "id": "hiFs1CSyciiL"
      }
    },
    {
      "cell_type": "code",
      "source": [
        "np.random.seed(42)\n",
        "\n",
        "x1=np.random.rand(1000)\n",
        "x2=np.random.rand(1000)\n",
        "c=np.random.rand(1000)"
      ],
      "metadata": {
        "id": "91BV3U98clC8"
      },
      "execution_count": null,
      "outputs": []
    },
    {
      "cell_type": "markdown",
      "source": [
        "Defining the dependent variable."
      ],
      "metadata": {
        "id": "pxbSLXQjc5KB"
      }
    },
    {
      "cell_type": "code",
      "source": [
        "y=x1**2+3*x2+c"
      ],
      "metadata": {
        "id": "Aelr0g1mc-iM"
      },
      "execution_count": null,
      "outputs": []
    },
    {
      "cell_type": "markdown",
      "source": [
        "Combining x1 and x2 in a 2D array."
      ],
      "metadata": {
        "id": "9U_9VmYndEuh"
      }
    },
    {
      "cell_type": "code",
      "source": [
        "X=np.column_stack((x1,x2))"
      ],
      "metadata": {
        "id": "h1i2asaCdIJf"
      },
      "execution_count": null,
      "outputs": []
    },
    {
      "cell_type": "markdown",
      "source": [
        "Generating Polynomial features to train."
      ],
      "metadata": {
        "id": "koU8Ep0QdgG-"
      }
    },
    {
      "cell_type": "code",
      "source": [
        "from sklearn.preprocessing import PolynomialFeatures"
      ],
      "metadata": {
        "id": "jHdphlY1dmXW"
      },
      "execution_count": null,
      "outputs": []
    },
    {
      "cell_type": "code",
      "source": [
        "poly=PolynomialFeatures(degree=2)\n",
        "X_poly=poly.fit_transform(X)"
      ],
      "metadata": {
        "id": "RJ94-mc8dtPt"
      },
      "execution_count": null,
      "outputs": []
    },
    {
      "cell_type": "markdown",
      "source": [
        "X_poly has 6 columns [1,x1,x2,x1^2,x1*x2,x2^2]\n"
      ],
      "metadata": {
        "id": "fUN4Lyq9eIHT"
      }
    },
    {
      "cell_type": "markdown",
      "source": [
        "Splitting the Dataset into Training and Testing Sets"
      ],
      "metadata": {
        "id": "n_rIHEoTeNtM"
      }
    },
    {
      "cell_type": "code",
      "source": [
        "from sklearn.model_selection import train_test_split"
      ],
      "metadata": {
        "id": "09JLDNR8eJ6x"
      },
      "execution_count": null,
      "outputs": []
    },
    {
      "cell_type": "code",
      "source": [
        "X_train,X_test,y_train,y_test=train_test_split(X_poly,y,test_size=0.2,random_state=42)"
      ],
      "metadata": {
        "id": "3OSUrI_SeeMQ"
      },
      "execution_count": null,
      "outputs": []
    },
    {
      "cell_type": "markdown",
      "source": [
        "Training the model"
      ],
      "metadata": {
        "id": "b29FMshnevtN"
      }
    },
    {
      "cell_type": "code",
      "source": [
        "from sklearn.linear_model import LinearRegression"
      ],
      "metadata": {
        "id": "D21rpZ3Aexix"
      },
      "execution_count": null,
      "outputs": []
    },
    {
      "cell_type": "code",
      "source": [
        "model=LinearRegression()\n",
        "model.fit(X_train,y_train)\n",
        "\n",
        "y_pred=model.predict(X_test)"
      ],
      "metadata": {
        "id": "dR9xhmrxe2YN"
      },
      "execution_count": null,
      "outputs": []
    },
    {
      "cell_type": "markdown",
      "source": [
        "Calculating Evaluation Metrics"
      ],
      "metadata": {
        "id": "pw5FcOnufeaT"
      }
    },
    {
      "cell_type": "code",
      "source": [
        "from sklearn.metrics import r2_score, mean_absolute_error, mean_squared_error"
      ],
      "metadata": {
        "id": "aK8Q6yySfo_E"
      },
      "execution_count": null,
      "outputs": []
    },
    {
      "cell_type": "code",
      "source": [
        "r2=r2_score(y_test,y_pred)\n",
        "print(\"R2 Score:\",r2)"
      ],
      "metadata": {
        "id": "Wzo-97UwfhmH"
      },
      "execution_count": null,
      "outputs": []
    },
    {
      "cell_type": "code",
      "source": [
        "mae=mean_absolute_error(y_test,y_pred)\n",
        "print(\"Mean Absolute Error:\",mae)"
      ],
      "metadata": {
        "id": "fGcyHolKfyNE"
      },
      "execution_count": null,
      "outputs": []
    },
    {
      "cell_type": "code",
      "source": [
        "mse=mean_squared_error(y_test,y_pred)\n",
        "print(\"Mean Squared Error:\",mse)"
      ],
      "metadata": {
        "id": "FNcAqCqLf2LV"
      },
      "execution_count": null,
      "outputs": []
    },
    {
      "cell_type": "markdown",
      "source": [
        "# Week13 Question5"
      ],
      "metadata": {
        "id": "7rhQ2Kz6hJkg"
      }
    },
    {
      "cell_type": "code",
      "source": [
        "import numpy as np\n",
        "import tensorflow as tf\n",
        "from tensorflow.keras import datasets, layers, models\n",
        "from sklearn.metrics import classification_report, confusion_matrix"
      ],
      "metadata": {
        "id": "SF_21lOBhNIw"
      },
      "execution_count": null,
      "outputs": []
    },
    {
      "cell_type": "markdown",
      "source": [
        "Loading the MNIST dataset"
      ],
      "metadata": {
        "id": "9jsTpj4ghwQZ"
      }
    },
    {
      "cell_type": "code",
      "source": [
        "(x_train,y_train), (x_test,y_test)=datasets.mnist.load_data()"
      ],
      "metadata": {
        "id": "_1o1zCSahyT-"
      },
      "execution_count": null,
      "outputs": []
    },
    {
      "cell_type": "markdown",
      "source": [
        "### Preprocessing the data"
      ],
      "metadata": {
        "id": "WwqKgVUgh-JM"
      }
    },
    {
      "cell_type": "markdown",
      "source": [
        "Normalizing the images to values between 0 and 1"
      ],
      "metadata": {
        "id": "FVH20uzriEKx"
      }
    },
    {
      "cell_type": "code",
      "source": [
        "x_train=x_train.astype('float32')/255.0\n",
        "x_test=x_test.astype('float32')/255.0"
      ],
      "metadata": {
        "id": "6vQXaYrriIvp"
      },
      "execution_count": null,
      "outputs": []
    },
    {
      "cell_type": "markdown",
      "source": [
        "Converting labels to binary"
      ],
      "metadata": {
        "id": "soGLw_S0jI-y"
      }
    },
    {
      "cell_type": "code",
      "source": [
        "y_train_binary=np.where(y_train==8,1,0)\n",
        "y_test_binary=np.where(y_test==8,1,0)"
      ],
      "metadata": {
        "id": "_3KzqEpLjMQO"
      },
      "execution_count": null,
      "outputs": []
    },
    {
      "cell_type": "markdown",
      "source": [
        "Reshaping data to add channel dimension"
      ],
      "metadata": {
        "id": "GzbabzJjjX6j"
      }
    },
    {
      "cell_type": "code",
      "source": [
        "x_train=x_train.reshape((x_train.shape[0],28,28,1))\n",
        "x_test=x_test.reshape((x_test.shape[0],28,28,1))"
      ],
      "metadata": {
        "id": "Jq2WY6Z4jbri"
      },
      "execution_count": null,
      "outputs": []
    },
    {
      "cell_type": "markdown",
      "source": [
        "### Building the CNN model"
      ],
      "metadata": {
        "id": "4r9_hKG8jkn3"
      }
    },
    {
      "cell_type": "code",
      "source": [
        "model_cnn=models.Sequential([\n",
        "    layers.Conv2D(32,(3,3),activation='relu',input_shape=(28,28,1)),\n",
        "    layers.MaxPooling2D((2,2)),\n",
        "    layers.Conv2D(64,(3,3),activation='relu'),\n",
        "    layers.MaxPooling2D((2,2)),\n",
        "    layers.Flatten(),\n",
        "    layers.Dense(64,activation='relu'),\n",
        "    layers.Dense(1,activation='sigmoid')\n",
        "])"
      ],
      "metadata": {
        "id": "6Yyxy79zjriK"
      },
      "execution_count": null,
      "outputs": []
    },
    {
      "cell_type": "markdown",
      "source": [
        "### Compiling the model"
      ],
      "metadata": {
        "id": "2dHhtO7OklHt"
      }
    },
    {
      "cell_type": "code",
      "source": [
        "model_cnn.compile(optimizer='adam',\n",
        "              loss='binary_crossentropy',\n",
        "              metrics=['accuracy'])"
      ],
      "metadata": {
        "id": "19Y6LZCpknnD"
      },
      "execution_count": null,
      "outputs": []
    },
    {
      "cell_type": "markdown",
      "source": [
        "### Training the model"
      ],
      "metadata": {
        "id": "HC0q6536k3Bx"
      }
    },
    {
      "cell_type": "code",
      "source": [
        "model_cnn.fit(x_train,y_train_binary,epochs=5,batch_size=64,validation_split=0.2)"
      ],
      "metadata": {
        "id": "xevXQKMVk5BU"
      },
      "execution_count": null,
      "outputs": []
    },
    {
      "cell_type": "markdown",
      "source": [
        "### Evaluating the model"
      ],
      "metadata": {
        "id": "dQf0_E-wmGe9"
      }
    },
    {
      "cell_type": "code",
      "source": [
        "test_loss, test_acc=model_cnn.evaluate(x_test,y_test_binary)\n",
        "print(\"Test Accuracy:\",test_acc)"
      ],
      "metadata": {
        "id": "eUKQFcPemJmp"
      },
      "execution_count": null,
      "outputs": []
    },
    {
      "cell_type": "code",
      "source": [
        "y_pred=(model_cnn.predict(x_test)>0.5).astype('int32')"
      ],
      "metadata": {
        "id": "_h2d008XmREd"
      },
      "execution_count": null,
      "outputs": []
    },
    {
      "cell_type": "code",
      "source": [
        "print(confusion_matrix(y_test_binary,y_pred))\n",
        "print(classification_report(y_test_binary,y_pred))"
      ],
      "metadata": {
        "id": "7Ck4TA6ImdQ0"
      },
      "execution_count": null,
      "outputs": []
    }
  ]
}